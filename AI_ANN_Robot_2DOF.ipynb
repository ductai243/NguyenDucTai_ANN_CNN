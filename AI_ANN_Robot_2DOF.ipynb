{
  "nbformat": 4,
  "nbformat_minor": 0,
  "metadata": {
    "colab": {
      "name": "AI_ANN_Robot_2DOF.ipynb",
      "provenance": []
    },
    "kernelspec": {
      "name": "python3",
      "display_name": "Python 3"
    },
    "language_info": {
      "name": "python"
    }
  },
  "cells": [
    {
      "cell_type": "code",
      "execution_count": 42,
      "metadata": {
        "id": "GwpI1JWJI5UB"
      },
      "outputs": [],
      "source": [
        "# Import Libraries\n",
        "import tensorflow as tf\n",
        "import matplotlib.pyplot as plt\n",
        "import cv2 as cv\n",
        "import os\n",
        "import numpy as np\n",
        "from tensorflow.keras.preprocessing.image import ImageDataGenerator\n",
        "from tensorflow.keras.preprocessing import image\n",
        "from tensorflow.keras.optimizers import RMSprop\n",
        "from tensorflow.keras import layers\n",
        "# Gọi các thư viện cần thiết \n",
        "import numpy as np\n",
        "import pandas as pd # Xu lý bảng\n",
        "import seaborn as sns # Vẽ biểu đồ thị của dữ liệu\n",
        "import matplotlib.pyplot as plt \n",
        "from sklearn.preprocessing import StandardScaler # Xử lý chuẩn hóa dữ liệu\n",
        "from sklearn.model_selection import train_test_split # Chia dữ liệu ra làm 2 phần\n",
        "from keras.layers import Dense, Activation, Dropout, BatchNormalization, LSTM    # LSTM  biên dạng ANN, BatchNormalization: cho nhỏ lại\n",
        "from keras.models import Sequential\n",
        "from tensorflow.keras.utils import to_categorical # Sử dung để làm nổi đối tượng cần phân loại\n",
        "from keras import callbacks \n",
        "from sklearn.metrics import precision_score, recall_score, confusion_matrix, classification_report, accuracy_score, f1_score # Để đo lường\n",
        "\n",
        "from tensorflow.keras.preprocessing.image import ImageDataGenerator\n",
        "from keras.utils import np_utils\n",
        "from tensorflow.keras.preprocessing import image\n",
        "from tensorflow.keras.optimizers import RMSprop\n",
        "from keras.models import Sequential\n",
        "from keras.layers import Dense, Dropout\n",
        "from keras.callbacks import EarlyStopping\n",
        "import matplotlib.pyplot as plt\n",
        "import tensorflow as tf\n",
        "import numpy as np\n",
        "import cv2\n",
        "import os\n",
        "\n",
        "import numpy as np\n",
        "import pandas as pd\n",
        "import seaborn as sns\n",
        "import matplotlib.pyplot as plt\n",
        "\n",
        "from sklearn import preprocessing\n",
        "from sklearn.preprocessing import StandardScaler\n",
        "from sklearn.model_selection import train_test_split\n",
        "from keras.layers import Dense, Activation, Dropout, BatchNormalization, LSTM\n",
        "from keras.models import Sequential \n",
        "from tensorflow.keras.utils import to_categorical\n",
        "from keras import callbacks\n",
        "from sklearn.metrics import precision_score, recall_score, confusion_matrix, classification_report, accuracy_score, f1_score\n",
        "import keras\n",
        "from keras.models import Sequential\n",
        "from keras.layers import Dense # fully connected\n",
        "from keras.datasets import boston_housing\n",
        "from tensorflow.keras.optimizers import RMSprop # toi uu\n",
        "from keras.callbacks import EarlyStopping # dung lai ngay lap tuc\n",
        "from sklearn.preprocessing import scale # xu li du lieu\n",
        "from sklearn.preprocessing import StandardScaler # xu li du lieu"
      ]
    },
    {
      "cell_type": "code",
      "source": [
        "# Create Dataframe\n",
        "dataR = []\n",
        "l1 = 50\n",
        "l2 = 40\n",
        "#l3 = 20\n",
        "#phi = theta1 +theta2 + theta3\n",
        "for theta1 in range (-120,120):\n",
        "  for theta2 in range (-90,90):\n",
        "    px = l1*np.cos(np.radians(theta1)) + l2*np.cos(np.radians(theta1 + theta2))\n",
        "    py = l1*np.sin(np.radians(theta1)) + l2*np.sin(np.radians(theta1 + theta2))\n",
        "    dataR.append([theta1,theta2,px,py])\n",
        "data = pd.DataFrame(dataR,columns=['theta1','theta2','Px','Py'])\n",
        "data"
      ],
      "metadata": {
        "colab": {
          "base_uri": "https://localhost:8080/",
          "height": 424
        },
        "id": "rZkVKPo_J_nv",
        "outputId": "62a8c668-be9d-4899-aaae-ff831d555d4e"
      },
      "execution_count": 43,
      "outputs": [
        {
          "output_type": "execute_result",
          "data": {
            "text/plain": [
              "       theta1  theta2         Px         Py\n",
              "0        -120    -100 -55.641778 -17.589766\n",
              "1        -120     -99 -56.085838 -18.128455\n",
              "2        -120     -98 -56.520430 -18.674811\n",
              "3        -120     -97 -56.945420 -19.228669\n",
              "4        -120     -96 -57.360680 -19.789860\n",
              "...       ...     ...        ...        ...\n",
              "47995     119      95 -57.401984  21.363269\n",
              "47996     119      96 -57.006563  20.787928\n",
              "47997     119      97 -56.601161  20.219575\n",
              "47998     119      98 -56.185901  19.658384\n",
              "47999     119      99 -55.760911  19.104526\n",
              "\n",
              "[48000 rows x 4 columns]"
            ],
            "text/html": [
              "\n",
              "  <div id=\"df-f54eb301-6553-40e5-a8a4-f9ac48387194\">\n",
              "    <div class=\"colab-df-container\">\n",
              "      <div>\n",
              "<style scoped>\n",
              "    .dataframe tbody tr th:only-of-type {\n",
              "        vertical-align: middle;\n",
              "    }\n",
              "\n",
              "    .dataframe tbody tr th {\n",
              "        vertical-align: top;\n",
              "    }\n",
              "\n",
              "    .dataframe thead th {\n",
              "        text-align: right;\n",
              "    }\n",
              "</style>\n",
              "<table border=\"1\" class=\"dataframe\">\n",
              "  <thead>\n",
              "    <tr style=\"text-align: right;\">\n",
              "      <th></th>\n",
              "      <th>theta1</th>\n",
              "      <th>theta2</th>\n",
              "      <th>Px</th>\n",
              "      <th>Py</th>\n",
              "    </tr>\n",
              "  </thead>\n",
              "  <tbody>\n",
              "    <tr>\n",
              "      <th>0</th>\n",
              "      <td>-120</td>\n",
              "      <td>-100</td>\n",
              "      <td>-55.641778</td>\n",
              "      <td>-17.589766</td>\n",
              "    </tr>\n",
              "    <tr>\n",
              "      <th>1</th>\n",
              "      <td>-120</td>\n",
              "      <td>-99</td>\n",
              "      <td>-56.085838</td>\n",
              "      <td>-18.128455</td>\n",
              "    </tr>\n",
              "    <tr>\n",
              "      <th>2</th>\n",
              "      <td>-120</td>\n",
              "      <td>-98</td>\n",
              "      <td>-56.520430</td>\n",
              "      <td>-18.674811</td>\n",
              "    </tr>\n",
              "    <tr>\n",
              "      <th>3</th>\n",
              "      <td>-120</td>\n",
              "      <td>-97</td>\n",
              "      <td>-56.945420</td>\n",
              "      <td>-19.228669</td>\n",
              "    </tr>\n",
              "    <tr>\n",
              "      <th>4</th>\n",
              "      <td>-120</td>\n",
              "      <td>-96</td>\n",
              "      <td>-57.360680</td>\n",
              "      <td>-19.789860</td>\n",
              "    </tr>\n",
              "    <tr>\n",
              "      <th>...</th>\n",
              "      <td>...</td>\n",
              "      <td>...</td>\n",
              "      <td>...</td>\n",
              "      <td>...</td>\n",
              "    </tr>\n",
              "    <tr>\n",
              "      <th>47995</th>\n",
              "      <td>119</td>\n",
              "      <td>95</td>\n",
              "      <td>-57.401984</td>\n",
              "      <td>21.363269</td>\n",
              "    </tr>\n",
              "    <tr>\n",
              "      <th>47996</th>\n",
              "      <td>119</td>\n",
              "      <td>96</td>\n",
              "      <td>-57.006563</td>\n",
              "      <td>20.787928</td>\n",
              "    </tr>\n",
              "    <tr>\n",
              "      <th>47997</th>\n",
              "      <td>119</td>\n",
              "      <td>97</td>\n",
              "      <td>-56.601161</td>\n",
              "      <td>20.219575</td>\n",
              "    </tr>\n",
              "    <tr>\n",
              "      <th>47998</th>\n",
              "      <td>119</td>\n",
              "      <td>98</td>\n",
              "      <td>-56.185901</td>\n",
              "      <td>19.658384</td>\n",
              "    </tr>\n",
              "    <tr>\n",
              "      <th>47999</th>\n",
              "      <td>119</td>\n",
              "      <td>99</td>\n",
              "      <td>-55.760911</td>\n",
              "      <td>19.104526</td>\n",
              "    </tr>\n",
              "  </tbody>\n",
              "</table>\n",
              "<p>48000 rows × 4 columns</p>\n",
              "</div>\n",
              "      <button class=\"colab-df-convert\" onclick=\"convertToInteractive('df-f54eb301-6553-40e5-a8a4-f9ac48387194')\"\n",
              "              title=\"Convert this dataframe to an interactive table.\"\n",
              "              style=\"display:none;\">\n",
              "        \n",
              "  <svg xmlns=\"http://www.w3.org/2000/svg\" height=\"24px\"viewBox=\"0 0 24 24\"\n",
              "       width=\"24px\">\n",
              "    <path d=\"M0 0h24v24H0V0z\" fill=\"none\"/>\n",
              "    <path d=\"M18.56 5.44l.94 2.06.94-2.06 2.06-.94-2.06-.94-.94-2.06-.94 2.06-2.06.94zm-11 1L8.5 8.5l.94-2.06 2.06-.94-2.06-.94L8.5 2.5l-.94 2.06-2.06.94zm10 10l.94 2.06.94-2.06 2.06-.94-2.06-.94-.94-2.06-.94 2.06-2.06.94z\"/><path d=\"M17.41 7.96l-1.37-1.37c-.4-.4-.92-.59-1.43-.59-.52 0-1.04.2-1.43.59L10.3 9.45l-7.72 7.72c-.78.78-.78 2.05 0 2.83L4 21.41c.39.39.9.59 1.41.59.51 0 1.02-.2 1.41-.59l7.78-7.78 2.81-2.81c.8-.78.8-2.07 0-2.86zM5.41 20L4 18.59l7.72-7.72 1.47 1.35L5.41 20z\"/>\n",
              "  </svg>\n",
              "      </button>\n",
              "      \n",
              "  <style>\n",
              "    .colab-df-container {\n",
              "      display:flex;\n",
              "      flex-wrap:wrap;\n",
              "      gap: 12px;\n",
              "    }\n",
              "\n",
              "    .colab-df-convert {\n",
              "      background-color: #E8F0FE;\n",
              "      border: none;\n",
              "      border-radius: 50%;\n",
              "      cursor: pointer;\n",
              "      display: none;\n",
              "      fill: #1967D2;\n",
              "      height: 32px;\n",
              "      padding: 0 0 0 0;\n",
              "      width: 32px;\n",
              "    }\n",
              "\n",
              "    .colab-df-convert:hover {\n",
              "      background-color: #E2EBFA;\n",
              "      box-shadow: 0px 1px 2px rgba(60, 64, 67, 0.3), 0px 1px 3px 1px rgba(60, 64, 67, 0.15);\n",
              "      fill: #174EA6;\n",
              "    }\n",
              "\n",
              "    [theme=dark] .colab-df-convert {\n",
              "      background-color: #3B4455;\n",
              "      fill: #D2E3FC;\n",
              "    }\n",
              "\n",
              "    [theme=dark] .colab-df-convert:hover {\n",
              "      background-color: #434B5C;\n",
              "      box-shadow: 0px 1px 3px 1px rgba(0, 0, 0, 0.15);\n",
              "      filter: drop-shadow(0px 1px 2px rgba(0, 0, 0, 0.3));\n",
              "      fill: #FFFFFF;\n",
              "    }\n",
              "  </style>\n",
              "\n",
              "      <script>\n",
              "        const buttonEl =\n",
              "          document.querySelector('#df-f54eb301-6553-40e5-a8a4-f9ac48387194 button.colab-df-convert');\n",
              "        buttonEl.style.display =\n",
              "          google.colab.kernel.accessAllowed ? 'block' : 'none';\n",
              "\n",
              "        async function convertToInteractive(key) {\n",
              "          const element = document.querySelector('#df-f54eb301-6553-40e5-a8a4-f9ac48387194');\n",
              "          const dataTable =\n",
              "            await google.colab.kernel.invokeFunction('convertToInteractive',\n",
              "                                                     [key], {});\n",
              "          if (!dataTable) return;\n",
              "\n",
              "          const docLinkHtml = 'Like what you see? Visit the ' +\n",
              "            '<a target=\"_blank\" href=https://colab.research.google.com/notebooks/data_table.ipynb>data table notebook</a>'\n",
              "            + ' to learn more about interactive tables.';\n",
              "          element.innerHTML = '';\n",
              "          dataTable['output_type'] = 'display_data';\n",
              "          await google.colab.output.renderOutput(dataTable, element);\n",
              "          const docLink = document.createElement('div');\n",
              "          docLink.innerHTML = docLinkHtml;\n",
              "          element.appendChild(docLink);\n",
              "        }\n",
              "      </script>\n",
              "    </div>\n",
              "  </div>\n",
              "  "
            ]
          },
          "metadata": {},
          "execution_count": 43
        }
      ]
    },
    {
      "cell_type": "code",
      "source": [
        "# Handles data\n",
        "X=data.drop(['theta1','theta2'],axis =1) # toa do\n",
        "Y=data.drop(['Px','Py'],axis =1) # goc quay\n",
        "X_train,X_test,Y_train,Y_test = train_test_split(X,Y,test_size=0.2,random_state =7)\n",
        "print(X_train.shape,Y_train.shape,X_test.shape,Y_test.shape)\n"
      ],
      "metadata": {
        "colab": {
          "base_uri": "https://localhost:8080/"
        },
        "id": "-dxtrctqJ_jp",
        "outputId": "e1824b4a-ad14-4ab5-d630-ec28b0921477"
      },
      "execution_count": 44,
      "outputs": [
        {
          "output_type": "stream",
          "name": "stdout",
          "text": [
            "(38400, 2) (38400, 2) (9600, 2) (9600, 2)\n"
          ]
        }
      ]
    },
    {
      "cell_type": "code",
      "source": [
        "# Create model\n",
        "model = Sequential()\n",
        "model.add(Dense(64,kernel_initializer='normal',activation='relu',input_shape=(2,)))\n",
        "model.add(Dense(64,activation ='relu'))\n",
        "model.add(Dense(64,activation ='relu'))\n",
        "model.add(Dense(2))\n",
        "model.summary()"
      ],
      "metadata": {
        "colab": {
          "base_uri": "https://localhost:8080/"
        },
        "id": "57KrhzhSJ_hm",
        "outputId": "c512f4b2-3913-4cb1-f06b-9ac99f448d9f"
      },
      "execution_count": 45,
      "outputs": [
        {
          "output_type": "stream",
          "name": "stdout",
          "text": [
            "Model: \"sequential_1\"\n",
            "_________________________________________________________________\n",
            " Layer (type)                Output Shape              Param #   \n",
            "=================================================================\n",
            " dense_4 (Dense)             (None, 64)                192       \n",
            "                                                                 \n",
            " dense_5 (Dense)             (None, 64)                4160      \n",
            "                                                                 \n",
            " dense_6 (Dense)             (None, 64)                4160      \n",
            "                                                                 \n",
            " dense_7 (Dense)             (None, 2)                 130       \n",
            "                                                                 \n",
            "=================================================================\n",
            "Total params: 8,642\n",
            "Trainable params: 8,642\n",
            "Non-trainable params: 0\n",
            "_________________________________________________________________\n"
          ]
        }
      ]
    },
    {
      "cell_type": "code",
      "source": [
        "# Compile model\n",
        "model.compile(loss='mse', optimizer=RMSprop(), metrics = ['accuracy']) # bien dich\n",
        "# Train model\n",
        "history = model.fit(X_train, Y_train, batch_size = 128, epochs=500,verbose=1,validation_split=0.2, callbacks=[EarlyStopping(monitor='val_loss', patience=20)])\n"
      ],
      "metadata": {
        "colab": {
          "base_uri": "https://localhost:8080/"
        },
        "id": "N5kL33gtJ_fr",
        "outputId": "65a7bc5e-eb6e-4ab8-d701-6112e37d46d0"
      },
      "execution_count": 46,
      "outputs": [
        {
          "output_type": "stream",
          "name": "stdout",
          "text": [
            "Epoch 1/500\n",
            "240/240 [==============================] - 1s 3ms/step - loss: 1803.4253 - accuracy: 0.7001 - val_loss: 1696.2067 - val_accuracy: 0.7001\n",
            "Epoch 2/500\n",
            "240/240 [==============================] - 1s 2ms/step - loss: 1640.4884 - accuracy: 0.7020 - val_loss: 1698.4021 - val_accuracy: 0.7013\n",
            "Epoch 3/500\n",
            "240/240 [==============================] - 1s 2ms/step - loss: 1637.0343 - accuracy: 0.7017 - val_loss: 1689.7721 - val_accuracy: 0.6990\n",
            "Epoch 4/500\n",
            "240/240 [==============================] - 1s 2ms/step - loss: 1633.4393 - accuracy: 0.7012 - val_loss: 1684.8116 - val_accuracy: 0.7014\n",
            "Epoch 5/500\n",
            "240/240 [==============================] - 0s 2ms/step - loss: 1630.9186 - accuracy: 0.7013 - val_loss: 1680.1666 - val_accuracy: 0.7016\n",
            "Epoch 6/500\n",
            "240/240 [==============================] - 1s 2ms/step - loss: 1628.0917 - accuracy: 0.7013 - val_loss: 1675.9934 - val_accuracy: 0.6999\n",
            "Epoch 7/500\n",
            "240/240 [==============================] - 0s 2ms/step - loss: 1624.3065 - accuracy: 0.7016 - val_loss: 1678.0624 - val_accuracy: 0.7008\n",
            "Epoch 8/500\n",
            "240/240 [==============================] - 1s 2ms/step - loss: 1619.4774 - accuracy: 0.7020 - val_loss: 1661.3888 - val_accuracy: 0.7009\n",
            "Epoch 9/500\n",
            "240/240 [==============================] - 1s 2ms/step - loss: 1610.2512 - accuracy: 0.7014 - val_loss: 1652.9473 - val_accuracy: 0.7013\n",
            "Epoch 10/500\n",
            "240/240 [==============================] - 1s 2ms/step - loss: 1597.7467 - accuracy: 0.7012 - val_loss: 1640.5593 - val_accuracy: 0.6997\n",
            "Epoch 11/500\n",
            "240/240 [==============================] - 1s 2ms/step - loss: 1581.6376 - accuracy: 0.7012 - val_loss: 1627.3021 - val_accuracy: 0.6995\n",
            "Epoch 12/500\n",
            "240/240 [==============================] - 0s 2ms/step - loss: 1560.0808 - accuracy: 0.7013 - val_loss: 1596.4771 - val_accuracy: 0.7013\n",
            "Epoch 13/500\n",
            "240/240 [==============================] - 1s 2ms/step - loss: 1536.9333 - accuracy: 0.7029 - val_loss: 1554.8745 - val_accuracy: 0.7021\n",
            "Epoch 14/500\n",
            "240/240 [==============================] - 0s 2ms/step - loss: 1516.1761 - accuracy: 0.7089 - val_loss: 1548.3445 - val_accuracy: 0.7081\n",
            "Epoch 15/500\n",
            "240/240 [==============================] - 1s 2ms/step - loss: 1503.7714 - accuracy: 0.7168 - val_loss: 1587.3605 - val_accuracy: 0.7229\n",
            "Epoch 16/500\n",
            "240/240 [==============================] - 1s 2ms/step - loss: 1499.2462 - accuracy: 0.7215 - val_loss: 1540.6284 - val_accuracy: 0.7164\n",
            "Epoch 17/500\n",
            "240/240 [==============================] - 0s 2ms/step - loss: 1493.9503 - accuracy: 0.7248 - val_loss: 1511.5720 - val_accuracy: 0.7331\n",
            "Epoch 18/500\n",
            "240/240 [==============================] - 1s 2ms/step - loss: 1490.3761 - accuracy: 0.7266 - val_loss: 1537.8567 - val_accuracy: 0.7286\n",
            "Epoch 19/500\n",
            "240/240 [==============================] - 1s 2ms/step - loss: 1486.6658 - accuracy: 0.7289 - val_loss: 1561.5090 - val_accuracy: 0.7249\n",
            "Epoch 20/500\n",
            "240/240 [==============================] - 1s 2ms/step - loss: 1487.4839 - accuracy: 0.7281 - val_loss: 1519.1375 - val_accuracy: 0.7311\n",
            "Epoch 21/500\n",
            "240/240 [==============================] - 0s 2ms/step - loss: 1487.2743 - accuracy: 0.7298 - val_loss: 1521.3286 - val_accuracy: 0.7255\n",
            "Epoch 22/500\n",
            "240/240 [==============================] - 1s 2ms/step - loss: 1482.0380 - accuracy: 0.7294 - val_loss: 1579.8290 - val_accuracy: 0.7232\n",
            "Epoch 23/500\n",
            "240/240 [==============================] - 1s 2ms/step - loss: 1484.5577 - accuracy: 0.7308 - val_loss: 1569.7357 - val_accuracy: 0.7281\n",
            "Epoch 24/500\n",
            "240/240 [==============================] - 1s 2ms/step - loss: 1480.5914 - accuracy: 0.7298 - val_loss: 1505.9027 - val_accuracy: 0.7340\n",
            "Epoch 25/500\n",
            "240/240 [==============================] - 1s 2ms/step - loss: 1483.1160 - accuracy: 0.7304 - val_loss: 1533.2135 - val_accuracy: 0.7302\n",
            "Epoch 26/500\n",
            "240/240 [==============================] - 1s 2ms/step - loss: 1480.6523 - accuracy: 0.7300 - val_loss: 1514.3569 - val_accuracy: 0.7293\n",
            "Epoch 27/500\n",
            "240/240 [==============================] - 0s 2ms/step - loss: 1481.1471 - accuracy: 0.7309 - val_loss: 1517.6368 - val_accuracy: 0.7349\n",
            "Epoch 28/500\n",
            "240/240 [==============================] - 1s 2ms/step - loss: 1478.5077 - accuracy: 0.7335 - val_loss: 1557.5809 - val_accuracy: 0.7302\n",
            "Epoch 29/500\n",
            "240/240 [==============================] - 1s 2ms/step - loss: 1478.2437 - accuracy: 0.7324 - val_loss: 1512.3058 - val_accuracy: 0.7324\n",
            "Epoch 30/500\n",
            "240/240 [==============================] - 1s 2ms/step - loss: 1478.2869 - accuracy: 0.7319 - val_loss: 1501.5964 - val_accuracy: 0.7382\n",
            "Epoch 31/500\n",
            "240/240 [==============================] - 1s 2ms/step - loss: 1476.5452 - accuracy: 0.7320 - val_loss: 1497.4907 - val_accuracy: 0.7342\n",
            "Epoch 32/500\n",
            "240/240 [==============================] - 0s 2ms/step - loss: 1476.1708 - accuracy: 0.7328 - val_loss: 1534.1567 - val_accuracy: 0.7322\n",
            "Epoch 33/500\n",
            "240/240 [==============================] - 1s 2ms/step - loss: 1477.5427 - accuracy: 0.7340 - val_loss: 1513.4886 - val_accuracy: 0.7277\n",
            "Epoch 34/500\n",
            "240/240 [==============================] - 1s 2ms/step - loss: 1477.5627 - accuracy: 0.7336 - val_loss: 1512.7538 - val_accuracy: 0.7316\n",
            "Epoch 35/500\n",
            "240/240 [==============================] - 1s 2ms/step - loss: 1473.6786 - accuracy: 0.7323 - val_loss: 1500.2213 - val_accuracy: 0.7409\n",
            "Epoch 36/500\n",
            "240/240 [==============================] - 1s 2ms/step - loss: 1474.1951 - accuracy: 0.7336 - val_loss: 1500.6128 - val_accuracy: 0.7437\n",
            "Epoch 37/500\n",
            "240/240 [==============================] - 0s 2ms/step - loss: 1475.8237 - accuracy: 0.7338 - val_loss: 1521.5836 - val_accuracy: 0.7346\n",
            "Epoch 38/500\n",
            "240/240 [==============================] - 0s 2ms/step - loss: 1475.1710 - accuracy: 0.7341 - val_loss: 1497.4348 - val_accuracy: 0.7406\n",
            "Epoch 39/500\n",
            "240/240 [==============================] - 0s 2ms/step - loss: 1473.6925 - accuracy: 0.7334 - val_loss: 1529.2699 - val_accuracy: 0.7374\n",
            "Epoch 40/500\n",
            "240/240 [==============================] - 0s 2ms/step - loss: 1475.2144 - accuracy: 0.7346 - val_loss: 1521.8795 - val_accuracy: 0.7276\n",
            "Epoch 41/500\n",
            "240/240 [==============================] - 1s 2ms/step - loss: 1473.8042 - accuracy: 0.7339 - val_loss: 1530.3746 - val_accuracy: 0.7345\n",
            "Epoch 42/500\n",
            "240/240 [==============================] - 1s 2ms/step - loss: 1473.3391 - accuracy: 0.7341 - val_loss: 1498.7251 - val_accuracy: 0.7411\n",
            "Epoch 43/500\n",
            "240/240 [==============================] - 1s 2ms/step - loss: 1472.4016 - accuracy: 0.7353 - val_loss: 1518.1161 - val_accuracy: 0.7331\n",
            "Epoch 44/500\n",
            "240/240 [==============================] - 0s 2ms/step - loss: 1473.7571 - accuracy: 0.7340 - val_loss: 1524.9366 - val_accuracy: 0.7387\n",
            "Epoch 45/500\n",
            "240/240 [==============================] - 1s 2ms/step - loss: 1470.1375 - accuracy: 0.7369 - val_loss: 1503.0709 - val_accuracy: 0.7371\n",
            "Epoch 46/500\n",
            "240/240 [==============================] - 0s 2ms/step - loss: 1473.2903 - accuracy: 0.7356 - val_loss: 1517.4481 - val_accuracy: 0.7341\n",
            "Epoch 47/500\n",
            "240/240 [==============================] - 1s 2ms/step - loss: 1469.8859 - accuracy: 0.7362 - val_loss: 1498.7596 - val_accuracy: 0.7413\n",
            "Epoch 48/500\n",
            "240/240 [==============================] - 1s 2ms/step - loss: 1471.5688 - accuracy: 0.7349 - val_loss: 1493.8794 - val_accuracy: 0.7428\n",
            "Epoch 49/500\n",
            "240/240 [==============================] - 1s 2ms/step - loss: 1472.0115 - accuracy: 0.7352 - val_loss: 1513.7179 - val_accuracy: 0.7419\n",
            "Epoch 50/500\n",
            "240/240 [==============================] - 1s 2ms/step - loss: 1470.9194 - accuracy: 0.7352 - val_loss: 1503.0513 - val_accuracy: 0.7404\n",
            "Epoch 51/500\n",
            "240/240 [==============================] - 1s 2ms/step - loss: 1473.6056 - accuracy: 0.7342 - val_loss: 1525.1305 - val_accuracy: 0.7319\n",
            "Epoch 52/500\n",
            "240/240 [==============================] - 0s 2ms/step - loss: 1470.1289 - accuracy: 0.7354 - val_loss: 1521.8348 - val_accuracy: 0.7299\n",
            "Epoch 53/500\n",
            "240/240 [==============================] - 0s 2ms/step - loss: 1469.8641 - accuracy: 0.7361 - val_loss: 1496.5671 - val_accuracy: 0.7396\n",
            "Epoch 54/500\n",
            "240/240 [==============================] - 1s 2ms/step - loss: 1471.9182 - accuracy: 0.7354 - val_loss: 1496.4062 - val_accuracy: 0.7422\n",
            "Epoch 55/500\n",
            "240/240 [==============================] - 1s 2ms/step - loss: 1468.8202 - accuracy: 0.7362 - val_loss: 1502.4226 - val_accuracy: 0.7388\n",
            "Epoch 56/500\n",
            "240/240 [==============================] - 0s 2ms/step - loss: 1468.5073 - accuracy: 0.7372 - val_loss: 1519.7474 - val_accuracy: 0.7301\n",
            "Epoch 57/500\n",
            "240/240 [==============================] - 1s 2ms/step - loss: 1469.5104 - accuracy: 0.7363 - val_loss: 1503.1136 - val_accuracy: 0.7341\n",
            "Epoch 58/500\n",
            "240/240 [==============================] - 1s 2ms/step - loss: 1469.9791 - accuracy: 0.7354 - val_loss: 1495.8948 - val_accuracy: 0.7418\n",
            "Epoch 59/500\n",
            "240/240 [==============================] - 1s 2ms/step - loss: 1467.1608 - accuracy: 0.7369 - val_loss: 1514.1077 - val_accuracy: 0.7293\n",
            "Epoch 60/500\n",
            "240/240 [==============================] - 1s 2ms/step - loss: 1469.2531 - accuracy: 0.7370 - val_loss: 1500.6893 - val_accuracy: 0.7371\n",
            "Epoch 61/500\n",
            "240/240 [==============================] - 0s 2ms/step - loss: 1467.6562 - accuracy: 0.7370 - val_loss: 1496.4275 - val_accuracy: 0.7418\n",
            "Epoch 62/500\n",
            "240/240 [==============================] - 1s 2ms/step - loss: 1465.2681 - accuracy: 0.7358 - val_loss: 1505.7655 - val_accuracy: 0.7387\n",
            "Epoch 63/500\n",
            "240/240 [==============================] - 0s 2ms/step - loss: 1468.3062 - accuracy: 0.7369 - val_loss: 1494.9668 - val_accuracy: 0.7415\n",
            "Epoch 64/500\n",
            "240/240 [==============================] - 1s 2ms/step - loss: 1465.7258 - accuracy: 0.7365 - val_loss: 1530.2937 - val_accuracy: 0.7355\n",
            "Epoch 65/500\n",
            "240/240 [==============================] - 1s 2ms/step - loss: 1467.4332 - accuracy: 0.7366 - val_loss: 1498.4786 - val_accuracy: 0.7423\n",
            "Epoch 66/500\n",
            "240/240 [==============================] - 1s 2ms/step - loss: 1467.1333 - accuracy: 0.7361 - val_loss: 1509.6803 - val_accuracy: 0.7401\n",
            "Epoch 67/500\n",
            "240/240 [==============================] - 0s 2ms/step - loss: 1466.8090 - accuracy: 0.7378 - val_loss: 1502.9055 - val_accuracy: 0.7395\n",
            "Epoch 68/500\n",
            "240/240 [==============================] - 1s 3ms/step - loss: 1467.9425 - accuracy: 0.7363 - val_loss: 1512.1523 - val_accuracy: 0.7331\n"
          ]
        }
      ]
    },
    {
      "cell_type": "code",
      "source": [
        "# Result\n",
        "score = model.evaluate(X_test,Y_test,verbose=0)\n",
        "print('Sai so kiem tra la:', score[0])\n",
        "print('Do chinh xac ', score[1])"
      ],
      "metadata": {
        "colab": {
          "base_uri": "https://localhost:8080/"
        },
        "id": "lRkUPvv4J_ay",
        "outputId": "76bcaf1b-f053-4d62-b8c9-b4c7f5ce38da"
      },
      "execution_count": 47,
      "outputs": [
        {
          "output_type": "stream",
          "name": "stdout",
          "text": [
            "Sai so kiem tra la: 1501.6402587890625\n",
            "Do chinh xac  0.7315624952316284\n"
          ]
        }
      ]
    },
    {
      "cell_type": "code",
      "source": [
        "# Draw plot\n",
        "plt.plot(history.history['accuracy'])\n",
        "plt.plot(history.history['val_accuracy'])\n",
        "plt.title('model accuracy')\n",
        "plt.ylabel('accuracy')\n",
        "plt.xlabel('epochs')\n",
        "plt.legend(['train','Validation'])\n",
        "plt.show()"
      ],
      "metadata": {
        "colab": {
          "base_uri": "https://localhost:8080/",
          "height": 295
        },
        "id": "y2NmDvGqJ_Ys",
        "outputId": "849d0e89-caf0-4bb7-eb67-1867b14d5ad6"
      },
      "execution_count": 48,
      "outputs": [
        {
          "output_type": "display_data",
          "data": {
            "text/plain": [
              "<Figure size 432x288 with 1 Axes>"
            ],
            "image/png": "[encoded data removed]"
          },
          "metadata": {
            "needs_background": "light"
          }
        }
      ]
    },
    {
      "cell_type": "code",
      "source": [
        "# Save model\n",
        "from tensorflow.keras.models import load_model\n",
        "model.save('Final12.h5')\n",
        "model_ANN = load_model('Final12.h5')"
      ],
      "metadata": {
        "id": "U5fprlutJ_Wg"
      },
      "execution_count": 49,
      "outputs": []
    },
    {
      "cell_type": "code",
      "source": [
        "sd = np.array([[50,40],[23,55]])\n",
        "y_predict = model_ANN(sd)\n",
        "print(y_predict)"
      ],
      "metadata": {
        "colab": {
          "base_uri": "https://localhost:8080/"
        },
        "id": "8a4Dik3OJ_UQ",
        "outputId": "66b7d2a6-2ec5-4b03-c57f-3727174219aa"
      },
      "execution_count": 50,
      "outputs": [
        {
          "output_type": "stream",
          "name": "stdout",
          "text": [
            "tf.Tensor(\n",
            "[[37.017597   -0.11429241]\n",
            " [64.41186     0.08113447]], shape=(2, 2), dtype=float32)\n"
          ]
        }
      ]
    },
    {
      "cell_type": "code",
      "source": [
        ""
      ],
      "metadata": {
        "id": "9DeopZxdJ_Rn"
      },
      "execution_count": 50,
      "outputs": []
    },
    {
      "cell_type": "code",
      "source": [
        ""
      ],
      "metadata": {
        "id": "EzKpYHsOJ_OS"
      },
      "execution_count": 52,
      "outputs": []
    },
    {
      "cell_type": "code",
      "source": [
        ""
      ],
      "metadata": {
        "id": "pDEXWm__J_D9"
      },
      "execution_count": 52,
      "outputs": []
    }
  ]
}